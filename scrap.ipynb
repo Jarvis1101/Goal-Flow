{
 "cells": [
  {
   "cell_type": "code",
   "execution_count": 191,
   "metadata": {},
   "outputs": [],
   "source": [
    "import requests\n",
    "from bs4 import BeautifulSoup\n",
    "import pandas as pd\n",
    "import numpy as np\n",
    "\n"
   ]
  },
  {
   "cell_type": "code",
   "execution_count": 192,
   "metadata": {},
   "outputs": [],
   "source": [
    "url=\"https://ilovebargain.com/sg\""
   ]
  },
  {
   "cell_type": "code",
   "execution_count": 193,
   "metadata": {},
   "outputs": [],
   "source": [
    "HEADERS=({'User-Agent':'Mozilla/5.0 (Macintosh; Intel Mac OS X 10_15_7) AppleWebKit/537.36 (KHTML, like Gecko) Chrome/114.0.0.0 Safari/537.36','Accept-Language':'en-SG,en;q=0.5'})"
   ]
  },
  {
   "cell_type": "code",
   "execution_count": 194,
   "metadata": {},
   "outputs": [],
   "source": [
    "webpage=requests.get(url,headers=HEADERS)"
   ]
  },
  {
   "cell_type": "code",
   "execution_count": 195,
   "metadata": {},
   "outputs": [],
   "source": [
    "soup=BeautifulSoup(webpage.content,'html.parser')"
   ]
  },
  {
   "cell_type": "code",
   "execution_count": 196,
   "metadata": {},
   "outputs": [],
   "source": [
    "links=soup.find_all(\"a\")"
   ]
  },
  {
   "cell_type": "code",
   "execution_count": null,
   "metadata": {},
   "outputs": [],
   "source": []
  },
  {
   "cell_type": "code",
   "execution_count": 197,
   "metadata": {},
   "outputs": [],
   "source": [
    "li_list=[]"
   ]
  },
  {
   "cell_type": "code",
   "execution_count": 198,
   "metadata": {},
   "outputs": [],
   "source": [
    "for link in links:\n",
    "        li_list.append(link.get('href'))"
   ]
  },
  {
   "cell_type": "code",
   "execution_count": 199,
   "metadata": {},
   "outputs": [
    {
     "data": {
      "text/plain": [
       "['#',\n",
       " '/sg/sale',\n",
       " '/sg/lifehacks/',\n",
       " '#',\n",
       " '/sg/hobbies/',\n",
       " '/sg/fashion/',\n",
       " '/sg/foodanddrink/',\n",
       " '/sg/travel/',\n",
       " '/sg/sportsandoutdoors/',\n",
       " '/sg/homedecor/',\n",
       " '/sg/electronics/',\n",
       " '/sg/other/',\n",
       " '/sg/healthandbeauty/',\n",
       " '/sg/kids/',\n",
       " '/sg/internet-and-services/',\n",
       " '#',\n",
       " '#',\n",
       " '/sg/hobbies/',\n",
       " '/sg/fashion/',\n",
       " '/sg/foodanddrink/',\n",
       " '/sg/travel/',\n",
       " '/sg/sportsandoutdoors/',\n",
       " '/sg/homedecor/',\n",
       " '/sg/electronics/',\n",
       " '/sg/other/',\n",
       " '/sg/healthandbeauty/',\n",
       " '/sg/kids/',\n",
       " '/sg/internet-and-services/',\n",
       " '#',\n",
       " '#',\n",
       " 'https://www.facebook.com/ilovebargainsg',\n",
       " 'https://twitter.com/ILoveBargainSg',\n",
       " '#',\n",
       " '/sg/robinsons.com.sg-promo-code/',\n",
       " '/sg/eamart-promo-codes/',\n",
       " '/sg/apm-monaco-coupons/',\n",
       " '/sg/rosesonly-coupons/',\n",
       " '/sg/foreo-discount-codes/',\n",
       " '/sg/ishopchangi-coupons/',\n",
       " '/sg/circles.life-coupons/',\n",
       " '/sg/expedia-sg-voucher-code/',\n",
       " '/sg/yoox-coupons/',\n",
       " '/sg/changirecommends-vouchers/',\n",
       " '/sg/guardian-coupons/',\n",
       " '/sg/hp-coupons/',\n",
       " '/sg/catandthefiddle-coupons/',\n",
       " '/sg/busonlineticket-coupons/',\n",
       " '/sg/klook-coupons/',\n",
       " '/sg/mcdonalds-coupons/',\n",
       " '/sg/zalora-promo-codes/',\n",
       " '/sg/courts-coupons/',\n",
       " '/sg/lazada-voucher/',\n",
       " '/sg/hotels-coupons/',\n",
       " '#',\n",
       " '/sg/hobbies/',\n",
       " '/sg/hobbies/',\n",
       " '/sg/fashion/',\n",
       " '/sg/fashion/',\n",
       " '/sg/foodanddrink/',\n",
       " '/sg/foodanddrink/',\n",
       " '/sg/travel/',\n",
       " '/sg/travel/',\n",
       " '/sg/sportsandoutdoors/',\n",
       " '/sg/sportsandoutdoors/',\n",
       " '/sg/homedecor/',\n",
       " '/sg/homedecor/',\n",
       " '/sg/electronics/',\n",
       " '/sg/electronics/',\n",
       " '/sg/other/',\n",
       " '/sg/healthandbeauty/',\n",
       " '/sg/healthandbeauty/',\n",
       " '/sg/kids/',\n",
       " '/sg/kids/',\n",
       " '/sg/internet-and-services/',\n",
       " '/sg/internet-and-services/',\n",
       " '/sg/lifehack/best-sunscreens-2020',\n",
       " '/sg/lifehack/best-sunscreens-2020',\n",
       " '/sg/lifehack/best-sunscreens-2020',\n",
       " '/sg/lifehack/10-places-in-seoul',\n",
       " '/sg/lifehack/10-places-in-seoul',\n",
       " '/sg/lifehack/10-places-in-seoul',\n",
       " '/sg/lifehack/dream-cruise-bogo-cruise-tickets',\n",
       " '/sg/dream-cruises-coupon-codes/',\n",
       " '/sg/lifehack/dream-cruise-bogo-cruise-tickets',\n",
       " '/sg/lifehack/dream-cruise-bogo-cruise-tickets',\n",
       " '/sg/lifehack/black-friday-huge-sales-in-singapore',\n",
       " '/sg/lifehack/black-friday-huge-sales-in-singapore',\n",
       " '/sg/lifehack/black-friday-huge-sales-in-singapore',\n",
       " '#tab-1',\n",
       " '#tab-2',\n",
       " '#tab-3',\n",
       " 'https://ilovebargain.com/in/',\n",
       " 'https://codepoche.fr',\n",
       " 'https://kodvpalto.ru',\n",
       " 'https://ilovebargain.com/sg/',\n",
       " 'https://ilovebargain.com/my/',\n",
       " 'https://ilovebargain.com/ph/',\n",
       " 'https://ilovebargain.com/hk/',\n",
       " 'https://ilovebargain.com/ae/',\n",
       " 'https://ilovebargain.com/sg/',\n",
       " '/sg/about',\n",
       " '/sg/contact',\n",
       " '/sg/all-shops',\n",
       " '/sg/terms',\n",
       " '/sg/season-offers/',\n",
       " '/sg/rss/']"
      ]
     },
     "execution_count": 199,
     "metadata": {},
     "output_type": "execute_result"
    }
   ],
   "source": [
    "li_list"
   ]
  },
  {
   "cell_type": "code",
   "execution_count": null,
   "metadata": {},
   "outputs": [],
   "source": []
  },
  {
   "cell_type": "code",
   "execution_count": 200,
   "metadata": {},
   "outputs": [],
   "source": [
    "z=[x for x in li_list if x is not None and \"https\" not in x and \"#\" not in x and x!=\"/\" and \"//\" not in x]"
   ]
  },
  {
   "cell_type": "code",
   "execution_count": 201,
   "metadata": {},
   "outputs": [
    {
     "name": "stdout",
     "output_type": "stream",
     "text": [
      "['/sg/sale', '/sg/lifehacks/', '/sg/hobbies/', '/sg/fashion/', '/sg/foodanddrink/', '/sg/travel/', '/sg/sportsandoutdoors/', '/sg/homedecor/', '/sg/electronics/', '/sg/other/', '/sg/healthandbeauty/', '/sg/kids/', '/sg/internet-and-services/', '/sg/hobbies/', '/sg/fashion/', '/sg/foodanddrink/', '/sg/travel/', '/sg/sportsandoutdoors/', '/sg/homedecor/', '/sg/electronics/', '/sg/other/', '/sg/healthandbeauty/', '/sg/kids/', '/sg/internet-and-services/', '/sg/robinsons.com.sg-promo-code/', '/sg/eamart-promo-codes/', '/sg/apm-monaco-coupons/', '/sg/rosesonly-coupons/', '/sg/foreo-discount-codes/', '/sg/ishopchangi-coupons/', '/sg/circles.life-coupons/', '/sg/expedia-sg-voucher-code/', '/sg/yoox-coupons/', '/sg/changirecommends-vouchers/', '/sg/guardian-coupons/', '/sg/hp-coupons/', '/sg/catandthefiddle-coupons/', '/sg/busonlineticket-coupons/', '/sg/klook-coupons/', '/sg/mcdonalds-coupons/', '/sg/zalora-promo-codes/', '/sg/courts-coupons/', '/sg/lazada-voucher/', '/sg/hotels-coupons/', '/sg/hobbies/', '/sg/hobbies/', '/sg/fashion/', '/sg/fashion/', '/sg/foodanddrink/', '/sg/foodanddrink/', '/sg/travel/', '/sg/travel/', '/sg/sportsandoutdoors/', '/sg/sportsandoutdoors/', '/sg/homedecor/', '/sg/homedecor/', '/sg/electronics/', '/sg/electronics/', '/sg/other/', '/sg/healthandbeauty/', '/sg/healthandbeauty/', '/sg/kids/', '/sg/kids/', '/sg/internet-and-services/', '/sg/internet-and-services/', '/sg/lifehack/best-sunscreens-2020', '/sg/lifehack/best-sunscreens-2020', '/sg/lifehack/best-sunscreens-2020', '/sg/lifehack/10-places-in-seoul', '/sg/lifehack/10-places-in-seoul', '/sg/lifehack/10-places-in-seoul', '/sg/lifehack/dream-cruise-bogo-cruise-tickets', '/sg/dream-cruises-coupon-codes/', '/sg/lifehack/dream-cruise-bogo-cruise-tickets', '/sg/lifehack/dream-cruise-bogo-cruise-tickets', '/sg/lifehack/black-friday-huge-sales-in-singapore', '/sg/lifehack/black-friday-huge-sales-in-singapore', '/sg/lifehack/black-friday-huge-sales-in-singapore', '/sg/about', '/sg/contact', '/sg/all-shops', '/sg/terms', '/sg/season-offers/', '/sg/rss/']\n"
     ]
    }
   ],
   "source": [
    "print(z)"
   ]
  },
  {
   "cell_type": "code",
   "execution_count": 202,
   "metadata": {},
   "outputs": [],
   "source": [
    "coup=\"https://www.couponzguru.sg/fashion/\""
   ]
  },
  {
   "cell_type": "code",
   "execution_count": null,
   "metadata": {},
   "outputs": [],
   "source": [
    "coup"
   ]
  },
  {
   "cell_type": "code",
   "execution_count": null,
   "metadata": {},
   "outputs": [],
   "source": [
    "new_webpage=requests.get(coup,headers=HEADERS)\n"
   ]
  },
  {
   "cell_type": "code",
   "execution_count": null,
   "metadata": {},
   "outputs": [],
   "source": [
    "print(new_webpage)"
   ]
  },
  {
   "cell_type": "code",
   "execution_count": null,
   "metadata": {},
   "outputs": [],
   "source": [
    "new_soup = BeautifulSoup(new_webpage.content, \"html.parser\")"
   ]
  },
  {
   "cell_type": "code",
   "execution_count": null,
   "metadata": {},
   "outputs": [],
   "source": [
    "new_soup"
   ]
  },
  {
   "cell_type": "code",
   "execution_count": null,
   "metadata": {},
   "outputs": [],
   "source": [
    "title = new_soup.find(\"h3\")\n",
    "\n",
    "\n",
    "\n"
   ]
  },
  {
   "cell_type": "code",
   "execution_count": null,
   "metadata": {},
   "outputs": [],
   "source": [
    "print(title.text.strip())"
   ]
  },
  {
   "cell_type": "code",
   "execution_count": null,
   "metadata": {},
   "outputs": [],
   "source": [
    "descrip=new_soup.find(\"div\",attrs={\"class\":\"coupon-description expanded\"})"
   ]
  },
  {
   "cell_type": "code",
   "execution_count": null,
   "metadata": {},
   "outputs": [],
   "source": [
    "print(descrip)"
   ]
  },
  {
   "cell_type": "code",
   "execution_count": null,
   "metadata": {},
   "outputs": [],
   "source": [
    "if descrip:\n",
    "        # Find all <p> tags within the <div> element and extract their text content\n",
    "        p_tags = descrip.find_all(\"p\")\n",
    "\n",
    "        # Loop through the <p> tags and print their text content\n",
    "        for p in p_tags:\n",
    "            print(p.text().strip())\n",
    "else:\n",
    "        print(\"Coupon description div not found on the page.\")\n"
   ]
  },
  {
   "cell_type": "code",
   "execution_count": null,
   "metadata": {},
   "outputs": [],
   "source": [
    "! pip install selenium"
   ]
  },
  {
   "cell_type": "code",
   "execution_count": null,
   "metadata": {},
   "outputs": [],
   "source": [
    "! pip install webdriver_manager"
   ]
  },
  {
   "cell_type": "code",
   "execution_count": null,
   "metadata": {},
   "outputs": [],
   "source": [
    "from selenium import webdriver\n",
    "from selenium.webdriver.chrome.service import Service as ChromeService\n",
    "from selenium.webdriver.common.by import By\n",
    "from selenium.webdriver.chrome.options import Options\n",
    "from webdriver_manager.chrome import ChromeDriverManager\n",
    "from selenium.webdriver.support.ui import WebDriverWait\n",
    "from selenium.webdriver.support import expected_conditions as EC\n"
   ]
  },
  {
   "cell_type": "code",
   "execution_count": null,
   "metadata": {},
   "outputs": [],
   "source": [
    "chrome_options = Options()\n",
    "chrome_options.add_argument(\"--headless\")  # Run Chrome in headless mode\n",
    "chrome_options.add_argument(f\"--user-agent={'Mozilla/5.0 (Macintosh; Intel Mac OS X 10_15_7) AppleWebKit/537.36 (KHTML, like Gecko) Chrome/114.0.0.0 Safari/537.36'}\")  # Replace YOUR_USER_AGENT with your desired user agent\n",
    "chrome_options.add_argument(f\"--lang={'en-SG,en;q=0.5'}\") "
   ]
  },
  {
   "cell_type": "code",
   "execution_count": null,
   "metadata": {},
   "outputs": [],
   "source": [
    "driver = webdriver.Chrome(service=ChromeService(executable_path=ChromeDriverManager().install()), options=chrome_options)\n"
   ]
  },
  {
   "cell_type": "code",
   "execution_count": null,
   "metadata": {},
   "outputs": [],
   "source": [
    "url = \"https://www.couponzguru.sg/pizzahut-coupons/\"\n",
    "driver.get(url)"
   ]
  },
  {
   "cell_type": "code",
   "execution_count": null,
   "metadata": {},
   "outputs": [],
   "source": [
    "try:\n",
    "    # Wait for the <span> element with the ID \"code\" to be visible\n",
    "    span_element = WebDriverWait(driver, 10).until(\n",
    "        EC.visibility_of_element_located((By.ID, \"code\"))\n",
    "    )\n",
    "\n",
    "    # Extract and print the text content of the <span> element\n",
    "    if span_element:\n",
    "        extracted_text = span_element.text.strip()\n",
    "        print(extracted_text)\n",
    "    else:\n",
    "        print(\"Span element not found on the page.\")\n",
    "\n",
    "except Exception as e:\n",
    "    print(\"An error occurred:\", str(e))"
   ]
  },
  {
   "cell_type": "code",
   "execution_count": null,
   "metadata": {},
   "outputs": [],
   "source": []
  }
 ],
 "metadata": {
  "kernelspec": {
   "display_name": "env",
   "language": "python",
   "name": "python3"
  },
  "language_info": {
   "codemirror_mode": {
    "name": "ipython",
    "version": 3
   },
   "file_extension": ".py",
   "mimetype": "text/x-python",
   "name": "python",
   "nbconvert_exporter": "python",
   "pygments_lexer": "ipython3",
   "version": "3.9.13"
  },
  "orig_nbformat": 4
 },
 "nbformat": 4,
 "nbformat_minor": 2
}
